{
 "cells": [
  {
   "cell_type": "code",
   "execution_count": 1,
   "metadata": {},
   "outputs": [],
   "source": [
    "import pandas as pd\n",
    "import numpy as np\n",
    "import matplotlib.pyplot as plt\n",
    "import pathlib\n",
    "from pandas_summary import DataFrameSummary\n",
    "\n",
    "%matplotlib inline"
   ]
  },
  {
   "cell_type": "code",
   "execution_count": 2,
   "metadata": {},
   "outputs": [],
   "source": [
    "DATA_PATH = pathlib.PosixPath('./data')"
   ]
  },
  {
   "cell_type": "markdown",
   "metadata": {},
   "source": [
    "Load the 2015 dataset. Note that a number of fields from the original dataset that were deemed irrelevant to delay prediction have been dropped and departure and arrival times have been converted into minutes since midnight."
   ]
  },
  {
   "cell_type": "code",
   "execution_count": 5,
   "metadata": {},
   "outputs": [
    {
     "name": "stdout",
     "output_type": "stream",
     "text": [
      "Loading data/2015-01.csv\n",
      "Loading data/2015-02.csv\n",
      "Loading data/2015-03.csv\n",
      "Loading data/2015-04.csv\n",
      "Loading data/2015-05.csv\n",
      "Loading data/2015-06.csv\n",
      "Loading data/2015-07.csv\n",
      "Loading data/2015-08.csv\n",
      "Loading data/2015-09.csv\n",
      "Loading data/2015-10.csv\n",
      "Loading data/2015-11.csv\n",
      "Loading data/2015-12.csv\n"
     ]
    },
    {
     "data": {
      "text/plain": [
       "(5819079, 39)"
      ]
     },
     "execution_count": 5,
     "metadata": {},
     "output_type": "execute_result"
    }
   ],
   "source": [
    "dfs = []\n",
    "for month_idx in range(12):\n",
    "    file_name = '2015-{0:02d}.csv'.format(month_idx + 1)\n",
    "    path = DATA_PATH / file_name\n",
    "    print('Loading {}'.format(path))\n",
    "    df_month = pd.read_csv(path, low_memory=False)\n",
    "    dfs.append(df_month)\n",
    "    \n",
    "df = pd.concat(dfs, ignore_index=True)\n",
    "df.shape"
   ]
  },
  {
   "cell_type": "markdown",
   "metadata": {},
   "source": [
    "Drop rows for cancelled flights (since they have no meaningful delay data) and create boolean delay labels (where delay > 15 minutes)"
   ]
  },
  {
   "cell_type": "code",
   "execution_count": 49,
   "metadata": {},
   "outputs": [],
   "source": [
    "df = df.drop(columns='Unnamed: 0')\n",
    "df = df.loc[~(df['Cancelled'] == 1)]\n",
    "\n",
    "df['DepartureIsDelayed'] = df['DepartureDelayGroups'] >= 1"
   ]
  },
  {
   "cell_type": "markdown",
   "metadata": {},
   "source": [
    "Display some summary stats for the dataset."
   ]
  },
  {
   "cell_type": "code",
   "execution_count": 51,
   "metadata": {},
   "outputs": [],
   "source": [
    "summary = DataFrameSummary(df)"
   ]
  },
  {
   "cell_type": "markdown",
   "metadata": {},
   "source": [
    "We can see that\n",
    "- there is no missing data that relate directly to predicting departure delays. \n",
    "- there is a very small amount of data relating to arrival delays that is missing.\n",
    "- Only a small amount of data relating to delay causes is populated."
   ]
  },
  {
   "cell_type": "code",
   "execution_count": 52,
   "metadata": {},
   "outputs": [
    {
     "data": {
      "text/plain": [
       "Year                                   0%\n",
       "Quarter                                0%\n",
       "Month                                  0%\n",
       "DayofMonth                             0%\n",
       "DayOfWeek                              0%\n",
       "FlightDate                             0%\n",
       "DOT_ID_Reporting_Airline               0%\n",
       "Flight_Number_Reporting_Airline        0%\n",
       "OriginAirportID                        0%\n",
       "OriginCityMarketID                     0%\n",
       "OriginState                            0%\n",
       "DestAirportID                          0%\n",
       "DestCityMarketID                       0%\n",
       "DestState                              0%\n",
       "CRSDepTime                             0%\n",
       "DepTime                                0%\n",
       "DepDelay                               0%\n",
       "DepartureDelayGroups                   0%\n",
       "WheelsOff                              0%\n",
       "WheelsOn                            0.05%\n",
       "TaxiIn                              0.05%\n",
       "CRSArrTime                             0%\n",
       "ArrTime                             0.05%\n",
       "ArrDelay                            0.27%\n",
       "ArrivalDelayGroups                  0.27%\n",
       "Cancelled                              0%\n",
       "CancellationCode                     100%\n",
       "Diverted                               0%\n",
       "CRSElapsedTime                      0.00%\n",
       "ActualElapsedTime                   0.27%\n",
       "AirTime                             0.27%\n",
       "Distance                               0%\n",
       "DistanceGroup                          0%\n",
       "CarrierDelay                       81.44%\n",
       "WeatherDelay                       81.44%\n",
       "NASDelay                           81.44%\n",
       "SecurityDelay                      81.44%\n",
       "LateAircraftDelay                  81.44%\n",
       "DepartureIsDelayed                     0%\n",
       "ArrivalIsDelayed                       0%\n",
       "Name: missing_perc, dtype: object"
      ]
     },
     "execution_count": 52,
     "metadata": {},
     "output_type": "execute_result"
    }
   ],
   "source": [
    "summary.columns_stats.loc['missing_perc']"
   ]
  },
  {
   "cell_type": "markdown",
   "metadata": {},
   "source": [
    "Now we can look at the cardinality of the columns. Of the columns that we expect to be categorical, there are a large number (~7000) unique flight numbers (`Flight_Number_Reporting_Airline`) in particular."
   ]
  },
  {
   "cell_type": "code",
   "execution_count": 55,
   "metadata": {},
   "outputs": [
    {
     "data": {
      "text/plain": [
       "Year                                  1\n",
       "Quarter                               4\n",
       "Month                                12\n",
       "DayofMonth                           31\n",
       "DayOfWeek                             7\n",
       "FlightDate                          365\n",
       "DOT_ID_Reporting_Airline             14\n",
       "Flight_Number_Reporting_Airline    6947\n",
       "OriginAirportID                     322\n",
       "OriginCityMarketID                  301\n",
       "OriginState                          53\n",
       "DestAirportID                       322\n",
       "DestCityMarketID                    301\n",
       "DestState                            53\n",
       "CRSDepTime                         1320\n",
       "DepTime                            1440\n",
       "DepDelay                           1215\n",
       "DepartureDelayGroups                 15\n",
       "WheelsOff                          1440\n",
       "WheelsOn                           1440\n",
       "TaxiIn                              185\n",
       "CRSArrTime                         1435\n",
       "ArrTime                            1440\n",
       "ArrDelay                           1240\n",
       "ArrivalDelayGroups                   15\n",
       "Cancelled                             1\n",
       "CancellationCode                      0\n",
       "Diverted                              2\n",
       "CRSElapsedTime                      549\n",
       "ActualElapsedTime                   712\n",
       "AirTime                             675\n",
       "Distance                           1361\n",
       "DistanceGroup                        11\n",
       "CarrierDelay                       1067\n",
       "WeatherDelay                        632\n",
       "NASDelay                            570\n",
       "SecurityDelay                       154\n",
       "LateAircraftDelay                   695\n",
       "DepartureIsDelayed                    2\n",
       "ArrivalIsDelayed                      2\n",
       "Name: uniques, dtype: object"
      ]
     },
     "execution_count": 55,
     "metadata": {},
     "output_type": "execute_result"
    }
   ],
   "source": [
    "summary.columns_stats.loc['uniques', :]"
   ]
  },
  {
   "cell_type": "code",
   "execution_count": 56,
   "metadata": {},
   "outputs": [],
   "source": [
    "delayed_by_dow = pd.DataFrame(df.groupby(['DayOfWeek', 'DepartureIsDelayed']).size()).unstack(level=1)\n",
    "delayed_by_dow.columns = ['not_delayed', 'delayed']\n",
    "delayed_by_dow['total'] = delayed_by_dow.sum(axis=1)\n",
    "delayed_by_dow['delay_ratio'] = delayed_by_dow['delayed'] / delayed_by_dow['total']"
   ]
  },
  {
   "cell_type": "code",
   "execution_count": 60,
   "metadata": {},
   "outputs": [
    {
     "data": {
      "text/html": [
       "<div>\n",
       "<style scoped>\n",
       "    .dataframe tbody tr th:only-of-type {\n",
       "        vertical-align: middle;\n",
       "    }\n",
       "\n",
       "    .dataframe tbody tr th {\n",
       "        vertical-align: top;\n",
       "    }\n",
       "\n",
       "    .dataframe thead th {\n",
       "        text-align: right;\n",
       "    }\n",
       "</style>\n",
       "<table border=\"1\" class=\"dataframe\">\n",
       "  <thead>\n",
       "    <tr style=\"text-align: right;\">\n",
       "      <th></th>\n",
       "      <th>not_delayed</th>\n",
       "      <th>delayed</th>\n",
       "      <th>total</th>\n",
       "      <th>delay_ratio</th>\n",
       "    </tr>\n",
       "    <tr>\n",
       "      <th>DayOfWeek</th>\n",
       "      <th></th>\n",
       "      <th></th>\n",
       "      <th></th>\n",
       "      <th></th>\n",
       "    </tr>\n",
       "  </thead>\n",
       "  <tbody>\n",
       "    <tr>\n",
       "      <th>1</th>\n",
       "      <td>679305</td>\n",
       "      <td>165165</td>\n",
       "      <td>844470</td>\n",
       "      <td>0.195584</td>\n",
       "    </tr>\n",
       "    <tr>\n",
       "      <th>2</th>\n",
       "      <td>679890</td>\n",
       "      <td>149638</td>\n",
       "      <td>829528</td>\n",
       "      <td>0.180389</td>\n",
       "    </tr>\n",
       "    <tr>\n",
       "      <th>3</th>\n",
       "      <td>694301</td>\n",
       "      <td>150867</td>\n",
       "      <td>845168</td>\n",
       "      <td>0.178505</td>\n",
       "    </tr>\n",
       "    <tr>\n",
       "      <th>4</th>\n",
       "      <td>693941</td>\n",
       "      <td>166288</td>\n",
       "      <td>860229</td>\n",
       "      <td>0.193307</td>\n",
       "    </tr>\n",
       "    <tr>\n",
       "      <th>5</th>\n",
       "      <td>691960</td>\n",
       "      <td>161443</td>\n",
       "      <td>853403</td>\n",
       "      <td>0.189176</td>\n",
       "    </tr>\n",
       "    <tr>\n",
       "      <th>6</th>\n",
       "      <td>578407</td>\n",
       "      <td>113389</td>\n",
       "      <td>691796</td>\n",
       "      <td>0.163905</td>\n",
       "    </tr>\n",
       "    <tr>\n",
       "      <th>7</th>\n",
       "      <td>655889</td>\n",
       "      <td>148710</td>\n",
       "      <td>804599</td>\n",
       "      <td>0.184825</td>\n",
       "    </tr>\n",
       "  </tbody>\n",
       "</table>\n",
       "</div>"
      ],
      "text/plain": [
       "           not_delayed  delayed   total  delay_ratio\n",
       "DayOfWeek                                           \n",
       "1               679305   165165  844470     0.195584\n",
       "2               679890   149638  829528     0.180389\n",
       "3               694301   150867  845168     0.178505\n",
       "4               693941   166288  860229     0.193307\n",
       "5               691960   161443  853403     0.189176\n",
       "6               578407   113389  691796     0.163905\n",
       "7               655889   148710  804599     0.184825"
      ]
     },
     "execution_count": 60,
     "metadata": {},
     "output_type": "execute_result"
    }
   ],
   "source": [
    "delayed_by_dow"
   ]
  },
  {
   "cell_type": "code",
   "execution_count": 67,
   "metadata": {},
   "outputs": [
    {
     "data": {
      "image/png": "[encoded data removed]",
      "text/plain": [
       "<Figure size 432x288 with 1 Axes>"
      ]
     },
     "metadata": {
      "needs_background": "light"
     },
     "output_type": "display_data"
    }
   ],
   "source": [
    "for i, dow in enumerate(delayed_by_dow.index.values):\n",
    "    x = delayed_by_dow.at[dow, 'total']\n",
    "    y = delayed_by_dow.at[dow, 'delay_ratio']\n",
    "    plt.scatter(x, y, marker='x', color='red')\n",
    "    plt.text(x + 100, y + 0.001, dow, fontsize=12)\n",
    "    \n",
    "plt.show()"
   ]
  },
  {
   "cell_type": "code",
   "execution_count": 57,
   "metadata": {},
   "outputs": [
    {
     "data": {
      "text/plain": [
       "<matplotlib.axes._subplots.AxesSubplot at 0x123d1c7f0>"
      ]
     },
     "execution_count": 57,
     "metadata": {},
     "output_type": "execute_result"
    },
    {
     "data": {
      "image/png": "[encoded data removed]",
      "text/plain": [
       "<Figure size 432x288 with 1 Axes>"
      ]
     },
     "metadata": {
      "needs_background": "light"
     },
     "output_type": "display_data"
    }
   ],
   "source": [
    "delayed_by_dow['total'].plot(kind='bar', title='Number of flights by DoW')"
   ]
  },
  {
   "cell_type": "code",
   "execution_count": 58,
   "metadata": {},
   "outputs": [
    {
     "data": {
      "text/plain": [
       "<matplotlib.axes._subplots.AxesSubplot at 0x1abc8c5e0>"
      ]
     },
     "execution_count": 58,
     "metadata": {},
     "output_type": "execute_result"
    },
    {
     "data": {
      "image/png": "[encoded data removed]",
      "text/plain": [
       "<Figure size 432x288 with 1 Axes>"
      ]
     },
     "metadata": {
      "needs_background": "light"
     },
     "output_type": "display_data"
    }
   ],
   "source": [
    "delayed_by_dow['delay_ratio'].plot(kind='bar', title='Proportion of delayed flights by DoW')"
   ]
  },
  {
   "cell_type": "code",
   "execution_count": null,
   "metadata": {},
   "outputs": [],
   "source": []
  },
  {
   "cell_type": "code",
   "execution_count": 75,
   "metadata": {},
   "outputs": [],
   "source": [
    "df_airlines = pd.read_csv(DATA_PATH / 'lookups' / 'airline_ids.csv', index_col='Code')"
   ]
  },
  {
   "cell_type": "code",
   "execution_count": 78,
   "metadata": {},
   "outputs": [
    {
     "data": {
      "text/plain": [
       "Description    Southwest Airlines Co.: WN\n",
       "Name: 19393, dtype: object"
      ]
     },
     "execution_count": 78,
     "metadata": {},
     "output_type": "execute_result"
    }
   ],
   "source": [
    "df_airlines.loc[19393, ]"
   ]
  },
  {
   "cell_type": "code",
   "execution_count": 69,
   "metadata": {},
   "outputs": [],
   "source": [
    "delayed_by_airline = pd.DataFrame(df.groupby(['DOT_ID_Reporting_Airline', 'DepartureIsDelayed']).size()).unstack(level=1)\n",
    "delayed_by_airline.columns = ['not_delayed', 'delayed']\n",
    "delayed_by_airline['total'] = delayed_by_airline.sum(axis=1)\n",
    "delayed_by_airline['delay_ratio'] = delayed_by_airline['delayed'] / delayed_by_airline['total']"
   ]
  },
  {
   "cell_type": "code",
   "execution_count": 70,
   "metadata": {},
   "outputs": [
    {
     "data": {
      "image/png": "[encoded data removed]",
      "text/plain": [
       "<Figure size 432x288 with 1 Axes>"
      ]
     },
     "metadata": {
      "needs_background": "light"
     },
     "output_type": "display_data"
    }
   ],
   "source": [
    "fig = plt.figure(figsize=(6, 4))\n",
    "ax = delayed_by_airline['delay_ratio'].plot(kind='bar', title='', fig=fig)\n",
    "ax.set_xlabel('Airline ID')\n",
    "fig.savefig(\"fig_trend_airline.pdf\", bbox_inches='tight')"
   ]
  },
  {
   "cell_type": "code",
   "execution_count": null,
   "metadata": {},
   "outputs": [],
   "source": []
  }
 ],
 "metadata": {
  "kernelspec": {
   "display_name": "Python [conda env:fd] *",
   "language": "python",
   "name": "conda-env-fd-py"
  },
  "language_info": {
   "codemirror_mode": {
    "name": "ipython",
    "version": 3
   },
   "file_extension": ".py",
   "mimetype": "text/x-python",
   "name": "python",
   "nbconvert_exporter": "python",
   "pygments_lexer": "ipython3",
   "version": "3.8.0"
  }
 },
 "nbformat": 4,
 "nbformat_minor": 2
}
