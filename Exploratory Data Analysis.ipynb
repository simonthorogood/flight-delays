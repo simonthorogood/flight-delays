{
 "cells": [
  {
   "cell_type": "code",
   "execution_count": 1,
   "metadata": {},
   "outputs": [],
   "source": [
    "import pandas as pd\n",
    "import numpy as np\n",
    "import matplotlib.pyplot as plt\n",
    "import pathlib\n",
    "from pandas_summary import DataFrameSummary\n",
    "\n",
    "%matplotlib inline"
   ]
  },
  {
   "cell_type": "code",
   "execution_count": 2,
   "metadata": {},
   "outputs": [],
   "source": [
    "DATA_PATH = pathlib.PosixPath('./data')"
   ]
  },
  {
   "cell_type": "markdown",
   "metadata": {},
   "source": [
    "Load the full 2015 dataset."
   ]
  },
  {
   "cell_type": "code",
   "execution_count": 110,
   "metadata": {},
   "outputs": [
    {
     "name": "stdout",
     "output_type": "stream",
     "text": [
      "Loading data/full/2015-01.csv\n",
      "Loading data/full/2015-02.csv\n",
      "Loading data/full/2015-03.csv\n",
      "Loading data/full/2015-04.csv\n",
      "Loading data/full/2015-05.csv\n",
      "Loading data/full/2015-06.csv\n",
      "Loading data/full/2015-07.csv\n",
      "Loading data/full/2015-08.csv\n",
      "Loading data/full/2015-09.csv\n",
      "Loading data/full/2015-10.csv\n",
      "Loading data/full/2015-11.csv\n",
      "Loading data/full/2015-12.csv\n"
     ]
    },
    {
     "data": {
      "text/plain": [
       "(5819079, 39)"
      ]
     },
     "execution_count": 110,
     "metadata": {},
     "output_type": "execute_result"
    }
   ],
   "source": [
    "dfs = []\n",
    "for month_idx in range(12):\n",
    "    file_name = '2015-{0:02d}.csv'.format(month_idx + 1)\n",
    "    path = DATA_PATH / 'full' / file_name\n",
    "    print('Loading {}'.format(path))\n",
    "    df_month = pd.read_csv(path, low_memory=False)\n",
    "    dfs.append(df_month)\n",
    "    \n",
    "df = pd.concat(dfs, ignore_index=True)\n",
    "df.shape"
   ]
  },
  {
   "cell_type": "markdown",
   "metadata": {},
   "source": [
    "Drop redundant index and rows for cancelled flights (since they have no meaningful delay data) and create boolean delay labels (where delay > 15 minutes)"
   ]
  },
  {
   "cell_type": "code",
   "execution_count": 121,
   "metadata": {},
   "outputs": [],
   "source": [
    "df = df.drop(columns='Unnamed: 0')\n",
    "df = df.loc[~(df['Cancelled'] == 1)]\n",
    "\n",
    "df['DepartureIsDelayed'] = df['DepartureDelayGroups'] >= 1"
   ]
  },
  {
   "cell_type": "markdown",
   "metadata": {},
   "source": [
    "Display some summary stats for the dataset."
   ]
  },
  {
   "cell_type": "code",
   "execution_count": 51,
   "metadata": {},
   "outputs": [],
   "source": [
    "summary = DataFrameSummary(df)"
   ]
  },
  {
   "cell_type": "markdown",
   "metadata": {},
   "source": [
    "We can see that\n",
    "- there is no missing data that relate directly to predicting departure delays. \n",
    "- there is a very small amount of data relating to arrival delays that is missing.\n",
    "- Only a small amount of data relating to the causes of delays is populated."
   ]
  },
  {
   "cell_type": "code",
   "execution_count": 109,
   "metadata": {},
   "outputs": [
    {
     "data": {
      "text/plain": [
       "WheelsOn               0.05%\n",
       "TaxiIn                 0.05%\n",
       "ArrTime                0.05%\n",
       "ArrDelay               0.27%\n",
       "ArrivalDelayGroups     0.27%\n",
       "CancellationCode        100%\n",
       "CRSElapsedTime         0.00%\n",
       "ActualElapsedTime      0.27%\n",
       "AirTime                0.27%\n",
       "CarrierDelay          81.44%\n",
       "WeatherDelay          81.44%\n",
       "NASDelay              81.44%\n",
       "SecurityDelay         81.44%\n",
       "LateAircraftDelay     81.44%\n",
       "Name: missing_perc, dtype: object"
      ]
     },
     "execution_count": 109,
     "metadata": {},
     "output_type": "execute_result"
    }
   ],
   "source": [
    "summary.columns_stats.loc['missing_perc'][summary.columns_stats.loc['missing'] > 0]"
   ]
  },
  {
   "cell_type": "markdown",
   "metadata": {},
   "source": [
    "Now we can look at the cardinality of the columns. Of the columns that we expect to be categorical in nature, there are a large number (~7000) unique flight numbers (`Flight_Number_Reporting_Airline`) in particular."
   ]
  },
  {
   "cell_type": "code",
   "execution_count": 114,
   "metadata": {},
   "outputs": [
    {
     "data": {
      "text/plain": [
       "Year                                  1\n",
       "Quarter                               4\n",
       "Month                                12\n",
       "DayofMonth                           31\n",
       "DayOfWeek                             7\n",
       "DOT_ID_Reporting_Airline             14\n",
       "Flight_Number_Reporting_Airline    6947\n",
       "OriginAirportID                     322\n",
       "OriginCityMarketID                  301\n",
       "OriginState                          53\n",
       "DestAirportID                       322\n",
       "DestCityMarketID                    301\n",
       "DestState                            53\n",
       "DepartureDelayGroups                 15\n",
       "ArrivalDelayGroups                   15\n",
       "DistanceGroup                        11\n",
       "Name: uniques, dtype: object"
      ]
     },
     "execution_count": 114,
     "metadata": {},
     "output_type": "execute_result"
    }
   ],
   "source": [
    "cat_cols = [\n",
    "    'Year', 'Quarter', 'Month', 'DayofMonth', 'DayOfWeek',\n",
    "    'DOT_ID_Reporting_Airline', 'Flight_Number_Reporting_Airline',\n",
    "    'OriginAirportID', 'OriginCityMarketID', 'OriginState',\n",
    "    'DestAirportID', 'DestCityMarketID', 'DestState',\n",
    "    'DepartureDelayGroups', 'ArrivalDelayGroups', 'DistanceGroup'    \n",
    "]\n",
    "\n",
    "summary.columns_stats.loc['uniques', :][cat_cols]"
   ]
  },
  {
   "cell_type": "code",
   "execution_count": null,
   "metadata": {},
   "outputs": [],
   "source": []
  },
  {
   "cell_type": "code",
   "execution_count": 123,
   "metadata": {},
   "outputs": [],
   "source": [
    "day_names = {i+1:v for i, v in enumerate(['Mon', 'Tue', 'Wed', 'Thu', 'Fri', 'Sat', 'Sun'])}\n",
    "delayed_by_dow = pd.DataFrame(df.groupby(['DayOfWeek', 'DepartureIsDelayed']).size()).unstack(level=1)\n",
    "delayed_by_dow.columns = ['not_delayed', 'delayed']\n",
    "delayed_by_dow['total'] = delayed_by_dow.sum(axis=1)\n",
    "delayed_by_dow['delay_ratio'] = delayed_by_dow['delayed'] / delayed_by_dow['total']\n",
    "delayed_by_dow['day_name'] = delayed_by_dow.index.map(day_names)\n",
    "delayed_by_dow = delayed_by_dow.set_index('day_name')"
   ]
  },
  {
   "cell_type": "code",
   "execution_count": 132,
   "metadata": {},
   "outputs": [
    {
     "data": {
      "image/png": "[encoded data removed]",
      "text/plain": [
       "<Figure size 432x288 with 1 Axes>"
      ]
     },
     "metadata": {
      "needs_background": "light"
     },
     "output_type": "display_data"
    }
   ],
   "source": [
    "fig, ax = plt.subplots(figsize=(6, 4))\n",
    "for i, dow in enumerate(delayed_by_dow.index.values):\n",
    "    x = delayed_by_dow.at[dow, 'total']\n",
    "    y = delayed_by_dow.at[dow, 'delay_ratio']\n",
    "    ax.scatter(x, y, marker='.', color='red')\n",
    "    ax.text(x + 100, y + 0.001, dow, fontsize=12)\n",
    "    ax.set_xlabel('Number of flights')\n",
    "    ax.set_ylabel('Delay Ratio')\n",
    "    ax.set_title('Flight volume vs. delay ratio by DOW')"
   ]
  },
  {
   "cell_type": "code",
   "execution_count": null,
   "metadata": {},
   "outputs": [],
   "source": []
  },
  {
   "cell_type": "code",
   "execution_count": 125,
   "metadata": {},
   "outputs": [],
   "source": [
    "df_airlines = pd.read_csv(DATA_PATH / 'lookups' / 'airline_lookups.csv', index_col='AirlineID')\n",
    "delayed_by_airline = pd.DataFrame(df.groupby(['DOT_ID_Reporting_Airline', 'DepartureIsDelayed']).size()).unstack(level=1)\n",
    "delayed_by_airline.columns = ['not_delayed', 'delayed']\n",
    "delayed_by_airline['total'] = delayed_by_airline.sum(axis=1)\n",
    "delayed_by_airline['delay_ratio'] = delayed_by_airline['delayed'] / delayed_by_airline['total']\n",
    "delayed_by_airline['airline_code'] = delayed_by_airline.index.map(df_airlines['Description'])\n",
    "delayed_by_airline = delayed_by_airline.set_index('airline_code')"
   ]
  },
  {
   "cell_type": "code",
   "execution_count": 131,
   "metadata": {},
   "outputs": [
    {
     "data": {
      "image/png": "[encoded data removed]",
      "text/plain": [
       "<Figure size 432x288 with 1 Axes>"
      ]
     },
     "metadata": {
      "needs_background": "light"
     },
     "output_type": "display_data"
    }
   ],
   "source": [
    "fig = plt.figure(figsize=(6, 4))\n",
    "ax = delayed_by_airline['delay_ratio'].plot(kind='bar', title='', fig=fig)\n",
    "ax.set_xlabel('Airline')\n",
    "ax.set_ylabel('Delay Ratio')\n",
    "_ = ax.set_title('Delay ratio by airline')"
   ]
  },
  {
   "cell_type": "code",
   "execution_count": null,
   "metadata": {},
   "outputs": [],
   "source": []
  }
 ],
 "metadata": {
  "kernelspec": {
   "display_name": "Python [conda env:fd] *",
   "language": "python",
   "name": "conda-env-fd-py"
  },
  "language_info": {
   "codemirror_mode": {
    "name": "ipython",
    "version": 3
   },
   "file_extension": ".py",
   "mimetype": "text/x-python",
   "name": "python",
   "nbconvert_exporter": "python",
   "pygments_lexer": "ipython3",
   "version": "3.8.0"
  }
 },
 "nbformat": 4,
 "nbformat_minor": 2
}
